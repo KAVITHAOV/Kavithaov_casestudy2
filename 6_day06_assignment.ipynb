{
 "cells": [
  {
   "cell_type": "raw",
   "id": "8c21efd7",
   "metadata": {},
   "source": [
    "Write a Python function to sum all the numbers in a list. (Create a list and get list elements from user)"
   ]
  },
  {
   "cell_type": "code",
   "execution_count": 2,
   "id": "6f086a91",
   "metadata": {},
   "outputs": [
    {
     "name": "stdout",
     "output_type": "stream",
     "text": [
      "Enter the length of the list :2\n",
      "Enter the element of the list :1\n",
      "Enter the element of the list :2\n",
      "[1, 2, 3, 1, 2]\n",
      "9\n"
     ]
    }
   ],
   "source": [
    "list1 = []\n",
    "n=int(input('Enter the length of the list :'))\n",
    "for i in range(1,n+1):\n",
    "    x=int(input('Enter the element of the list :'))\n",
    "    list1.append(x)\n",
    "print(list1)\n",
    "print(sum(list1))"
   ]
  },
  {
   "cell_type": "raw",
   "id": "fd3341ce",
   "metadata": {},
   "source": [
    "Write a Python function that checks whether a passed string is palindrome or not"
   ]
  },
  {
   "cell_type": "code",
   "execution_count": 8,
   "id": "ea4c8751",
   "metadata": {},
   "outputs": [
    {
     "name": "stdout",
     "output_type": "stream",
     "text": [
      "enter the string kavitha\n",
      "string is not palindrome\n"
     ]
    }
   ],
   "source": [
    "def palindrome():\n",
    "    \n",
    "    s1=s.lower()\n",
    "    if (s == s[::-1]):\n",
    "        return('string is palindrome')\n",
    "    else:\n",
    "        return('string is not palindrome') \n",
    "s=input(\"enter the string :\")\n",
    "print(palindrome())\n",
    "\n"
   ]
  },
  {
   "cell_type": "raw",
   "id": "ba0606a8",
   "metadata": {},
   "source": [
    "Write a Python recursive function to find the Fibonacci series. Get the limit from the user"
   ]
  },
  {
   "cell_type": "code",
   "execution_count": 18,
   "id": "4f2a6591",
   "metadata": {},
   "outputs": [
    {
     "name": "stdout",
     "output_type": "stream",
     "text": [
      "How many terms?  10\n",
      "Fibonacci sequence:\n",
      "0\n",
      "1\n",
      "1\n",
      "2\n",
      "3\n",
      "5\n",
      "8\n",
      "13\n",
      "21\n",
      "34\n"
     ]
    }
   ],
   "source": [
    "def recur_fibo(n):\n",
    "    if n <= 1:\n",
    "        return n  \n",
    "    else:  \n",
    "        return(recur_fibo(n-1) + recur_fibo(n-2))  \n",
    "\n",
    "    \n",
    "nterms = int(input(\"How many terms? \"))  \n",
    "\n",
    "if nterms <= 0:  \n",
    "    print(\"Plese enter a positive integer\")  \n",
    "else:  \n",
    "    print(\"Fibonacci sequence:\")  \n",
    "    for i in range(nterms):  \n",
    "        print(recur_fibo(i))  "
   ]
  },
  {
   "cell_type": "raw",
   "id": "8a9e570d",
   "metadata": {},
   "source": [
    "Write a Python recursive function to print the multiplication table of given number"
   ]
  },
  {
   "cell_type": "code",
   "execution_count": 9,
   "id": "f3bf4945",
   "metadata": {},
   "outputs": [
    {
     "name": "stdout",
     "output_type": "stream",
     "text": [
      "Enter any Number  :7\n",
      "7  X  1  =  7\n",
      "7  X  2  =  14\n",
      "7  X  3  =  21\n",
      "7  X  4  =  28\n",
      "7  X  5  =  35\n",
      "7  X  6  =  42\n",
      "7  X  7  =  49\n",
      "7  X  8  =  56\n",
      "7  X  9  =  63\n",
      "7  X  10  =  70\n"
     ]
    },
    {
     "data": {
      "text/plain": [
       "1"
      ]
     },
     "execution_count": 9,
     "metadata": {},
     "output_type": "execute_result"
    }
   ],
   "source": [
    "def multiplication(num,count):\n",
    "    if( count < 11):\n",
    "        print(num,\" X \",count,\" = \",num * count)\n",
    "        return multiplication(num,count + 1)\n",
    "    else:\n",
    "        return 1\n",
    "n = int(input(\"Enter any Number  :\"));\n",
    "multiplication(n,1)"
   ]
  },
  {
   "cell_type": "raw",
   "id": "66d6b7a9",
   "metadata": {},
   "source": [
    "Define a function which counts vowels and consonant in a word."
   ]
  },
  {
   "cell_type": "code",
   "execution_count": 11,
   "id": "45a984a9",
   "metadata": {},
   "outputs": [
    {
     "name": "stdout",
     "output_type": "stream",
     "text": [
      "Enter the string :malayalam\n",
      "Vowels: 4\n",
      "Consonant: 5\n"
     ]
    }
   ],
   "source": [
    "def countCharacterType(sent):\n",
    "    vowels = 0\n",
    "    consonant = 0\n",
    "  \n",
    "    \n",
    "    for i in range(0, len(sent)): \n",
    "          \n",
    "        ch = sent[i] \n",
    "  \n",
    "        if ( (ch >= 'a' and ch <= 'z') or \n",
    "             (ch >= 'A' and ch <= 'Z') ): \n",
    "  \n",
    "           \n",
    "            ch = ch.lower()\n",
    "  \n",
    "            if (ch == 'a' or ch == 'e' or ch == 'i' \n",
    "                        or ch == 'o' or ch == 'u'):\n",
    "                vowels += 1\n",
    "            else:\n",
    "                consonant += 1\n",
    "       \n",
    "      \n",
    "    print(\"Vowels:\", vowels)\n",
    "    print(\"Consonant:\", consonant)\n",
    "\n",
    "sent = input(\"Enter the string :\")\n",
    "countCharacterType(sent) \n",
    "  \n",
    "    "
   ]
  },
  {
   "cell_type": "raw",
   "id": "a423f246",
   "metadata": {},
   "source": [
    "Define a function that accepts lowercase words and returns uppercase words"
   ]
  },
  {
   "cell_type": "code",
   "execution_count": 20,
   "id": "ec3d5ec7",
   "metadata": {},
   "outputs": [
    {
     "name": "stdout",
     "output_type": "stream",
     "text": [
      "Enter the words: charactor\n",
      " CHARACTOR\n"
     ]
    }
   ],
   "source": [
    "def to_upper():\n",
    "    \n",
    "    if (s1.islower()==True):\n",
    "        return(s1.upper())\n",
    "    else:\n",
    "        return\n",
    "    \n",
    "s1=input(\"Enter the words:\")\n",
    "print(to_upper())"
   ]
  },
  {
   "cell_type": "raw",
   "id": "aedfc3b8",
   "metadata": {},
   "source": [
    "Write a Python program to remove ‘None’ values from a given list using the lambda function.\n",
    "Given input = [12, 0, None, 23, None, -55, 234, 89, None, 0, 6, -12]\n",
    "Expected output = [12, 0, 23, -55, 234, 89, 0, 6, -12]\n"
   ]
  },
  {
   "cell_type": "code",
   "execution_count": 28,
   "id": "fb6bc22f",
   "metadata": {},
   "outputs": [
    {
     "name": "stdout",
     "output_type": "stream",
     "text": [
      "Original list:\n",
      "[12, 0, None, 23, None, -55, 234, 89, None, 0, 6, -12]\n",
      "\n",
      "Remove None value from the said list:\n",
      "[12, 0, 23, -55, 234, 89, 0, 6, -12]\n"
     ]
    }
   ],
   "source": [
    "def remove_none(numbers):\n",
    "    result = filter(lambda v: v is not None, numbers)\n",
    "    return list(result)\n",
    "\n",
    "numbers = [12, 0, None, 23, None, -55, 234, 89, None, 0, 6, -12]\n",
    "print(\"Original list:\")\n",
    "print(numbers)\n",
    "print(\"\\nRemove None value from the said list:\")\n",
    "print(remove_none(numbers))"
   ]
  },
  {
   "cell_type": "raw",
   "id": "4b459d03",
   "metadata": {},
   "source": [
    "Write a Rectangle class in Python language, allowing you to build a rectangle with length and width attributes.\n",
    "\n",
    "a. Create a Perimeter() method to calculate the perimeter of the \n",
    "rectangle and a Area() method to calculate the area of the rectangle.\n",
    "\n",
    "b. Create a method display() that display the length, width, perimeter \n",
    "and area of an object created using an instantiation on rectangle class.\n",
    "\n",
    "c. Create a Parallelepiped child class inheriting from the Rectangle \n",
    "class and with a height attribute and another Volume() method to \n",
    "calculate the volume of the Parallelepiped."
   ]
  },
  {
   "cell_type": "code",
   "execution_count": 30,
   "id": "0401fd0d",
   "metadata": {},
   "outputs": [
    {
     "name": "stdout",
     "output_type": "stream",
     "text": [
      "The length of rectangle is:  7\n",
      "The width of rectangle is:  5\n",
      "The perimeter of rectangle is:  24\n",
      "The area of rectangle is:  35\n",
      "the volume of myParallelepipede is:  70\n"
     ]
    }
   ],
   "source": [
    "class Rectangle:\n",
    "  \n",
    "    def __init__(self, length , width):\n",
    "        self.length = length\n",
    "        self.width = width\n",
    "        \n",
    "   \n",
    "    def Perimeter(self):\n",
    "        return 2*(self.length + self.width)\n",
    "    \n",
    "    \n",
    "    def Area(self):\n",
    "        return self.length*self.width   \n",
    "    \n",
    "    \n",
    "    def display(self):\n",
    "        print(\"The length of rectangle is: \", self.length)\n",
    "        print(\"The width of rectangle is: \", self.width)\n",
    "        print(\"The perimeter of rectangle is: \", self.Perimeter())\n",
    "        print(\"The area of rectangle is: \", self.Area())\n",
    "        \n",
    "class Parallelepipede(Rectangle):\n",
    "    def __init__(self, length, width , height):\n",
    "        Rectangle.__init__(self, length, width)\n",
    "        self.height = height\n",
    "        \n",
    "  \n",
    "    def volume(self):\n",
    "        return self.length*self.width*self.height\n",
    "        \n",
    "myRectangle = Rectangle(7 , 5)\n",
    "myRectangle.display()\n",
    "\n",
    "myParallelepipede = Parallelepipede(7 , 5 , 2)\n",
    "print(\"the volume of myParallelepipede is: \" , myParallelepipede.volume())"
   ]
  },
  {
   "cell_type": "raw",
   "id": "84e9d1fa",
   "metadata": {},
   "source": [
    "Create a Python class called BankAccount which represents a bank \n",
    "account, having as attributes: accountNumber (numeric type), name \n",
    "(name of the account owner as string type), balance.\n",
    "\n",
    "a. Create a constructor with parameters: accountNumber, name, balance.\n",
    "\n",
    "b. Create a Deposit() method which manages the deposit actions.\n",
    "\n",
    "c. Create a Withdrawal() method which manages withdrawals actions.\n",
    "\n",
    "d. Create an bankFees() method to apply the bank fees with a percentage of 5% of the balance account.\n",
    "\n",
    "e. Create a display() method to display account details.\n",
    "\n",
    "f. Give the complete code for the BankAccount class."
   ]
  },
  {
   "cell_type": "code",
   "execution_count": 32,
   "id": "944e1abb",
   "metadata": {},
   "outputs": [
    {
     "name": "stdout",
     "output_type": "stream",
     "text": [
      "Account Number :  8765424567\n",
      "Account Name :  Kavitha O V\n",
      "Account Balance :  4740 $\n"
     ]
    }
   ],
   "source": [
    "class BankAccount:\n",
    "     \n",
    "    def __init__(self,accountNumber, name, balance):\n",
    "        self.accountNumber = accountNumber\n",
    "        self.name = name\n",
    "        self.balance = balance\n",
    "        \n",
    "    \n",
    "    def Deposit(self , d ):\n",
    "        self.balance = self.balance + d\n",
    "    \n",
    "    \n",
    "    def Withdrawal(self , w):\n",
    "        if(self.balance < w):\n",
    "            print(\"impossible operation! Insufficient balance !\")\n",
    "        else:\n",
    "            self.balance = self.balance - w\n",
    "\n",
    "    def bankFees(self):\n",
    "        self.balance = (95/100)*self.balance\n",
    "        \n",
    "   \n",
    "    def display(self):\n",
    "        print(\"Account Number : \" , self.accountNumber)\n",
    "        print(\"Account Name : \" , self.name)\n",
    "        print(\"Account Balance : \" , self.balance , \"$\")\n",
    "        \n",
    "\n",
    "newAccount = BankAccount(8765424567, \"Kavitha O V\" , 5000)\n",
    "\n",
    "newAccount.Withdrawal(500)\n",
    "\n",
    "newAccount.Deposit(240)\n",
    "\n",
    "newAccount.display()"
   ]
  },
  {
   "cell_type": "raw",
   "id": "4f6ff05a",
   "metadata": {},
   "source": [
    "Create a base class rectangle with attributes length and breadth, methods area and perimeter.\n",
    "\n",
    "a. Save the rectangle class as a python file rectangle.py file.\n",
    "\n",
    "b. Open another python script and import the rectangle.py file.\n",
    "\n",
    "c. In the newly created script derive a child class called Parallelepiped \n",
    "class inheriting from the Rectangle class and with a height attribute \n",
    "and another Volume() method to calculate the volume of the Parallelepiped.\n",
    "\n",
    "d. Now create objects for parent class and child class in newly created script and access methods of parent class and child class. \n"
   ]
  },
  {
   "cell_type": "code",
   "execution_count": 36,
   "id": "f1bdf38a",
   "metadata": {},
   "outputs": [
    {
     "name": "stdout",
     "output_type": "stream",
     "text": [
      "120\n",
      "44\n"
     ]
    }
   ],
   "source": [
    "class Rectangle():\n",
    "    def __init__(self, l, w):\n",
    "        self.length = l\n",
    "        self.width  = w\n",
    "\n",
    "    def rectangle_area(self):\n",
    "        return self.length*self.width\n",
    "    def rectangle_perimeter(self):\n",
    "        return 2*(self.length+self.width)\n",
    "\n",
    "newRectangle = Rectangle(12, 10)\n",
    "print(newRectangle.rectangle_area())\n",
    "print(newRectangle.rectangle_perimeter())"
   ]
  },
  {
   "cell_type": "code",
   "execution_count": null,
   "id": "79a3c7d7",
   "metadata": {},
   "outputs": [],
   "source": []
  }
 ],
 "metadata": {
  "kernelspec": {
   "display_name": "Python 3 (ipykernel)",
   "language": "python",
   "name": "python3"
  },
  "language_info": {
   "codemirror_mode": {
    "name": "ipython",
    "version": 3
   },
   "file_extension": ".py",
   "mimetype": "text/x-python",
   "name": "python",
   "nbconvert_exporter": "python",
   "pygments_lexer": "ipython3",
   "version": "3.9.7"
  }
 },
 "nbformat": 4,
 "nbformat_minor": 5
}
